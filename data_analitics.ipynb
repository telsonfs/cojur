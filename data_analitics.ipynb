{
 "cells": [
  {
   "cell_type": "code",
   "execution_count": 15,
   "metadata": {},
   "outputs": [
    {
     "name": "stderr",
     "output_type": "stream",
     "text": [
      "[nltk_data] Downloading package punkt to /home/jupyter/nltk_data...\n",
      "[nltk_data]   Package punkt is already up-to-date!\n"
     ]
    },
    {
     "data": {
      "text/plain": [
       "True"
      ]
     },
     "execution_count": 15,
     "metadata": {},
     "output_type": "execute_result"
    }
   ],
   "source": [
    "import pandas as pd\n",
    "import nltk\n",
    "from nltk import tokenize\n",
    "from utils import create_corpus\n",
    "import re\n",
    "import json\n",
    "\n",
    "nltk.download('punkt')"
   ]
  },
  {
   "cell_type": "code",
   "execution_count": 16,
   "metadata": {},
   "outputs": [
    {
     "data": {
      "text/html": [
       "<div>\n",
       "<style scoped>\n",
       "    .dataframe tbody tr th:only-of-type {\n",
       "        vertical-align: middle;\n",
       "    }\n",
       "\n",
       "    .dataframe tbody tr th {\n",
       "        vertical-align: top;\n",
       "    }\n",
       "\n",
       "    .dataframe thead th {\n",
       "        text-align: right;\n",
       "    }\n",
       "</style>\n",
       "<table border=\"1\" class=\"dataframe\">\n",
       "  <thead>\n",
       "    <tr style=\"text-align: right;\">\n",
       "      <th></th>\n",
       "      <th>tipoDocumento</th>\n",
       "      <th>data</th>\n",
       "      <th>url</th>\n",
       "      <th>title</th>\n",
       "      <th>description</th>\n",
       "      <th>identifier</th>\n",
       "      <th>entity_legal</th>\n",
       "    </tr>\n",
       "  </thead>\n",
       "  <tbody>\n",
       "    <tr>\n",
       "      <th>0</th>\n",
       "      <td>Decreto</td>\n",
       "      <td>1987-09-24</td>\n",
       "      <td>https://www.lexml.gov.br/urn/urn:lex:br:federa...</td>\n",
       "      <td>['Decreto no 94.949, de 24 de Setembro de 1987...</td>\n",
       "      <td>['Abre, a Encargos Gerais da União - Recursos...</td>\n",
       "      <td>895290</td>\n",
       "      <td>Decreto no 94.949</td>\n",
       "    </tr>\n",
       "    <tr>\n",
       "      <th>1</th>\n",
       "      <td>Decreto</td>\n",
       "      <td>1987-09-24</td>\n",
       "      <td>https://www.lexml.gov.br/urn/urn:lex:br:federa...</td>\n",
       "      <td>['Decreto no 94.950, de 24 de Setembro de 1987...</td>\n",
       "      <td>['Abre ao Ministério da Indústria e do Comé...</td>\n",
       "      <td>895291</td>\n",
       "      <td>Decreto no 94.950</td>\n",
       "    </tr>\n",
       "    <tr>\n",
       "      <th>2</th>\n",
       "      <td>Decreto</td>\n",
       "      <td>1987-08-11</td>\n",
       "      <td>https://www.lexml.gov.br/urn/urn:lex:br:federa...</td>\n",
       "      <td>['Decreto no 94.764, de 11 de Agosto de 1987',...</td>\n",
       "      <td>['Altera o Decreto no 88.351, de 1o de junho d...</td>\n",
       "      <td>895292</td>\n",
       "      <td>Decreto no 94.764</td>\n",
       "    </tr>\n",
       "    <tr>\n",
       "      <th>3</th>\n",
       "      <td>Decreto</td>\n",
       "      <td>1987-08-06</td>\n",
       "      <td>https://www.lexml.gov.br/urn/urn:lex:br:federa...</td>\n",
       "      <td>['Decreto no 94.740, de 6 de Agosto de 1987', ...</td>\n",
       "      <td>['Abre ao Ministério da Reforma e do Desenvol...</td>\n",
       "      <td>895293</td>\n",
       "      <td>Decreto no 94.740</td>\n",
       "    </tr>\n",
       "    <tr>\n",
       "      <th>4</th>\n",
       "      <td>Decreto</td>\n",
       "      <td>1987-09-24</td>\n",
       "      <td>https://www.lexml.gov.br/urn/urn:lex:br:federa...</td>\n",
       "      <td>['Decreto no 94.951, de 24 de Setembro de 1987...</td>\n",
       "      <td>['Outorga concessão à RÁDIO PIONEIRA DE FOR...</td>\n",
       "      <td>895294</td>\n",
       "      <td>Decreto no 94.951</td>\n",
       "    </tr>\n",
       "  </tbody>\n",
       "</table>\n",
       "</div>"
      ],
      "text/plain": [
       "  tipoDocumento        data  \\\n",
       "0       Decreto  1987-09-24   \n",
       "1       Decreto  1987-09-24   \n",
       "2       Decreto  1987-08-11   \n",
       "3       Decreto  1987-08-06   \n",
       "4       Decreto  1987-09-24   \n",
       "\n",
       "                                                 url  \\\n",
       "0  https://www.lexml.gov.br/urn/urn:lex:br:federa...   \n",
       "1  https://www.lexml.gov.br/urn/urn:lex:br:federa...   \n",
       "2  https://www.lexml.gov.br/urn/urn:lex:br:federa...   \n",
       "3  https://www.lexml.gov.br/urn/urn:lex:br:federa...   \n",
       "4  https://www.lexml.gov.br/urn/urn:lex:br:federa...   \n",
       "\n",
       "                                               title  \\\n",
       "0  ['Decreto no 94.949, de 24 de Setembro de 1987...   \n",
       "1  ['Decreto no 94.950, de 24 de Setembro de 1987...   \n",
       "2  ['Decreto no 94.764, de 11 de Agosto de 1987',...   \n",
       "3  ['Decreto no 94.740, de 6 de Agosto de 1987', ...   \n",
       "4  ['Decreto no 94.951, de 24 de Setembro de 1987...   \n",
       "\n",
       "                                         description  identifier  \\\n",
       "0  ['Abre, a Encargos Gerais da União - Recursos...      895290   \n",
       "1  ['Abre ao Ministério da Indústria e do Comé...      895291   \n",
       "2  ['Altera o Decreto no 88.351, de 1o de junho d...      895292   \n",
       "3  ['Abre ao Ministério da Reforma e do Desenvol...      895293   \n",
       "4  ['Outorga concessão à RÁDIO PIONEIRA DE FOR...      895294   \n",
       "\n",
       "        entity_legal  \n",
       "0  Decreto no 94.949  \n",
       "1  Decreto no 94.950  \n",
       "2  Decreto no 94.764  \n",
       "3  Decreto no 94.740  \n",
       "4  Decreto no 94.951  "
      ]
     },
     "execution_count": 16,
     "metadata": {},
     "output_type": "execute_result"
    }
   ],
   "source": [
    "df = pd.read_csv('legislacao.csv', sep = '\\t')\n",
    "df.head()"
   ]
  },
  {
   "cell_type": "code",
   "execution_count": 17,
   "metadata": {},
   "outputs": [
    {
     "data": {
      "text/plain": [
       "Decreto                                                32240\n",
       "Decreto Legislativo                                    11836\n",
       "Medida Provisória                                      7200\n",
       "Lei                                                     7037\n",
       "Decreto-Lei                                              332\n",
       "Lei Complementar                                         134\n",
       "Emenda Constitucional                                    119\n",
       "Lei Delegada                                               2\n",
       "Constituição                                             1\n",
       "Ato das Disposições Constitucionais Transitórias        1\n",
       "Name: tipoDocumento, dtype: int64"
      ]
     },
     "execution_count": 17,
     "metadata": {},
     "output_type": "execute_result"
    }
   ],
   "source": [
    "tipo_documento = df.tipoDocumento.value_counts()\n",
    "tipo_documento"
   ]
  },
  {
   "cell_type": "code",
   "execution_count": 18,
   "metadata": {
    "tags": []
   },
   "outputs": [],
   "source": [
    "description_arr = df.description.unique()\n",
    "create_corpus(description_arr)\n",
    "            "
   ]
  },
  {
   "cell_type": "code",
   "execution_count": 19,
   "metadata": {},
   "outputs": [],
   "source": [
    "df_train = pd.read_csv('dataset/train.txt', sep=\" \", header=None)\n",
    "df_train.columns = ['token', 'entity']\n",
    "\n",
    "df_test = pd.read_csv('dataset/test.txt', sep=\" \", header=None)\n",
    "df_test.columns = ['token', 'entity']"
   ]
  },
  {
   "cell_type": "code",
   "execution_count": 20,
   "metadata": {},
   "outputs": [
    {
     "data": {
      "text/plain": [
       "O          242647\n",
       "I-LEI        7046\n",
       "I-DEC        5612\n",
       "B-LEI        3522\n",
       "B-DEC        2805\n",
       "I-DLEI        636\n",
       "I-MP          381\n",
       "I-LCOMP       348\n",
       "B-DLEI        318\n",
       "B-MP          127\n",
       "B-LCOMP       116\n",
       "I-EC           54\n",
       "I-DLEG         51\n",
       "B-EC           18\n",
       "B-DLEG         17\n",
       "I-LDEL          9\n",
       "B-LDEL          3\n",
       "Name: entity, dtype: int64"
      ]
     },
     "execution_count": 20,
     "metadata": {},
     "output_type": "execute_result"
    }
   ],
   "source": [
    "df_train.entity.value_counts()"
   ]
  },
  {
   "cell_type": "code",
   "execution_count": 21,
   "metadata": {},
   "outputs": [
    {
     "data": {
      "text/plain": [
       "O          58698\n",
       "I-LEI       1738\n",
       "I-DEC       1354\n",
       "B-LEI        869\n",
       "B-DEC        677\n",
       "I-DLEI       130\n",
       "I-LCOMP      108\n",
       "I-MP          93\n",
       "B-DLEI        65\n",
       "B-LCOMP       36\n",
       "B-MP          31\n",
       "I-DLEG        21\n",
       "I-EC          18\n",
       "B-DLEG         7\n",
       "B-EC           6\n",
       "Name: entity, dtype: int64"
      ]
     },
     "execution_count": 21,
     "metadata": {},
     "output_type": "execute_result"
    }
   ],
   "source": [
    "df_test.entity.value_counts()"
   ]
  },
  {
   "cell_type": "code",
   "execution_count": 22,
   "metadata": {},
   "outputs": [],
   "source": [
    "df_info = pd.read_csv('dataset/note_taker_automatic_info.csv', sep = '\\t')"
   ]
  },
  {
   "cell_type": "code",
   "execution_count": 23,
   "metadata": {},
   "outputs": [
    {
     "data": {
      "text/html": [
       "<div>\n",
       "<style scoped>\n",
       "    .dataframe tbody tr th:only-of-type {\n",
       "        vertical-align: middle;\n",
       "    }\n",
       "\n",
       "    .dataframe tbody tr th {\n",
       "        vertical-align: top;\n",
       "    }\n",
       "\n",
       "    .dataframe thead th {\n",
       "        text-align: right;\n",
       "    }\n",
       "</style>\n",
       "<table border=\"1\" class=\"dataframe\">\n",
       "  <thead>\n",
       "    <tr style=\"text-align: right;\">\n",
       "      <th></th>\n",
       "      <th>Unnamed: 0</th>\n",
       "      <th>named_entities</th>\n",
       "      <th>type</th>\n",
       "    </tr>\n",
       "  </thead>\n",
       "  <tbody>\n",
       "    <tr>\n",
       "      <th>0</th>\n",
       "      <td>0</td>\n",
       "      <td>Lei no 6.938</td>\n",
       "      <td>train</td>\n",
       "    </tr>\n",
       "    <tr>\n",
       "      <th>1</th>\n",
       "      <td>1</td>\n",
       "      <td>Lei no 6.902</td>\n",
       "      <td>train</td>\n",
       "    </tr>\n",
       "    <tr>\n",
       "      <th>2</th>\n",
       "      <td>2</td>\n",
       "      <td>Decreto no 88.351</td>\n",
       "      <td>train</td>\n",
       "    </tr>\n",
       "    <tr>\n",
       "      <th>3</th>\n",
       "      <td>3</td>\n",
       "      <td>Decreto no 93.607</td>\n",
       "      <td>train</td>\n",
       "    </tr>\n",
       "    <tr>\n",
       "      <th>4</th>\n",
       "      <td>4</td>\n",
       "      <td>Decreto no 76.767</td>\n",
       "      <td>train</td>\n",
       "    </tr>\n",
       "  </tbody>\n",
       "</table>\n",
       "</div>"
      ],
      "text/plain": [
       "   Unnamed: 0      named_entities   type\n",
       "0           0        Lei no 6.938  train\n",
       "1           1        Lei no 6.902  train\n",
       "2           2   Decreto no 88.351  train\n",
       "3           3   Decreto no 93.607  train\n",
       "4           4   Decreto no 76.767  train"
      ]
     },
     "execution_count": 23,
     "metadata": {},
     "output_type": "execute_result"
    }
   ],
   "source": [
    "df_info.head()"
   ]
  },
  {
   "cell_type": "code",
   "execution_count": null,
   "metadata": {},
   "outputs": [],
   "source": []
  }
 ],
 "metadata": {
  "environment": {
   "name": "tf2-2-3-gpu.2-3.m59",
   "type": "gcloud",
   "uri": "gcr.io/deeplearning-platform-release/tf2-2-3-gpu.2-3:m59"
  },
  "kernelspec": {
   "display_name": "Python 3",
   "language": "python",
   "name": "python3"
  },
  "language_info": {
   "codemirror_mode": {
    "name": "ipython",
    "version": 3
   },
   "file_extension": ".py",
   "mimetype": "text/x-python",
   "name": "python",
   "nbconvert_exporter": "python",
   "pygments_lexer": "ipython3",
   "version": "3.7.8"
  }
 },
 "nbformat": 4,
 "nbformat_minor": 4
}
